{
 "cells": [
  {
   "cell_type": "markdown",
   "metadata": {},
   "source": [
    "# Import Semua Packages/Library yang digunakan"
   ]
  },
  {
   "cell_type": "code",
   "execution_count": 204,
   "metadata": {},
   "outputs": [],
   "source": [
    "import pandas as pd\n",
    "import matplotlib.pyplot as plt\n",
    "import seaborn as sns"
   ]
  },
  {
   "cell_type": "markdown",
   "metadata": {},
   "source": [
    "## Data Wrangling"
   ]
  },
  {
   "cell_type": "markdown",
   "metadata": {},
   "source": [
    "### Gathering Data"
   ]
  },
  {
   "cell_type": "markdown",
   "metadata": {},
   "source": [
    "Membaca dataset, melakukan pemisahan antar kolom dala file csv dan format tampilan angka decimal di pandas agar menampilkan dua angka dibelakang koma"
   ]
  },
  {
   "cell_type": "code",
   "execution_count": 174,
   "metadata": {},
   "outputs": [],
   "source": [
    "df = pd.read_csv('TugasDataSainsW3.csv',delimiter=';')\n",
    "pd.set_option('display.float_format', '{:.2f}'.format)"
   ]
  },
  {
   "cell_type": "markdown",
   "metadata": {},
   "source": [
    "Menampilkan isi dataset yang berisi 10 variabel (costumer_name, product, price, discount, quantity, total_price, transaction_date, birth_date, location, payment_method)"
   ]
  },
  {
   "cell_type": "code",
   "execution_count": 175,
   "metadata": {},
   "outputs": [
    {
     "data": {
      "text/html": [
       "<div>\n",
       "<style scoped>\n",
       "    .dataframe tbody tr th:only-of-type {\n",
       "        vertical-align: middle;\n",
       "    }\n",
       "\n",
       "    .dataframe tbody tr th {\n",
       "        vertical-align: top;\n",
       "    }\n",
       "\n",
       "    .dataframe thead th {\n",
       "        text-align: right;\n",
       "    }\n",
       "</style>\n",
       "<table border=\"1\" class=\"dataframe\">\n",
       "  <thead>\n",
       "    <tr style=\"text-align: right;\">\n",
       "      <th></th>\n",
       "      <th>Customer_Name</th>\n",
       "      <th>Product</th>\n",
       "      <th>Price</th>\n",
       "      <th>Discount</th>\n",
       "      <th>Quantity</th>\n",
       "      <th>Total_Price</th>\n",
       "      <th>Transaction_Date</th>\n",
       "      <th>Birth_Date</th>\n",
       "      <th>Location</th>\n",
       "      <th>Payment_Method</th>\n",
       "    </tr>\n",
       "  </thead>\n",
       "  <tbody>\n",
       "    <tr>\n",
       "      <th>0</th>\n",
       "      <td>CHARLES EDWARDS</td>\n",
       "      <td>Tablet</td>\n",
       "      <td>8717207</td>\n",
       "      <td>5.00</td>\n",
       "      <td>2</td>\n",
       "      <td>16.562.693.299.999.900</td>\n",
       "      <td>01/12/2025</td>\n",
       "      <td>18/06/2001</td>\n",
       "      <td>Jakarta</td>\n",
       "      <td>Cash on Delivery</td>\n",
       "    </tr>\n",
       "    <tr>\n",
       "      <th>1</th>\n",
       "      <td>tiffany williams</td>\n",
       "      <td>Smartwatch</td>\n",
       "      <td>1566449</td>\n",
       "      <td>0.00</td>\n",
       "      <td>1</td>\n",
       "      <td>1566449.0</td>\n",
       "      <td>31/12/2024</td>\n",
       "      <td>18/07/2002</td>\n",
       "      <td>Surabaya</td>\n",
       "      <td>Cash on Delivery</td>\n",
       "    </tr>\n",
       "    <tr>\n",
       "      <th>2</th>\n",
       "      <td>Edward Shepherd</td>\n",
       "      <td>Camera</td>\n",
       "      <td>18785201</td>\n",
       "      <td>15.00</td>\n",
       "      <td>2</td>\n",
       "      <td>31934841.7</td>\n",
       "      <td>23/11/2024</td>\n",
       "      <td>12/11/2001</td>\n",
       "      <td>NaN</td>\n",
       "      <td>PayPal</td>\n",
       "    </tr>\n",
       "    <tr>\n",
       "      <th>3</th>\n",
       "      <td>WAYNE SIMS</td>\n",
       "      <td>Smartphone</td>\n",
       "      <td>14680586</td>\n",
       "      <td>10.00</td>\n",
       "      <td>3</td>\n",
       "      <td>39637582.2</td>\n",
       "      <td>02/10/2024</td>\n",
       "      <td>29/01/2003</td>\n",
       "      <td>Surabaya</td>\n",
       "      <td>PayPal</td>\n",
       "    </tr>\n",
       "    <tr>\n",
       "      <th>4</th>\n",
       "      <td>julie wolf</td>\n",
       "      <td>Smartwatch</td>\n",
       "      <td>3745263</td>\n",
       "      <td>10.00</td>\n",
       "      <td>3</td>\n",
       "      <td>10112210.1</td>\n",
       "      <td>04-19-2024</td>\n",
       "      <td>NaN</td>\n",
       "      <td>Bandung</td>\n",
       "      <td>Credit Card</td>\n",
       "    </tr>\n",
       "  </tbody>\n",
       "</table>\n",
       "</div>"
      ],
      "text/plain": [
       "      Customer_Name     Product     Price  Discount  Quantity  \\\n",
       "0   CHARLES EDWARDS      Tablet   8717207      5.00         2   \n",
       "1  tiffany williams  Smartwatch   1566449      0.00         1   \n",
       "2   Edward Shepherd      Camera  18785201     15.00         2   \n",
       "3        WAYNE SIMS  Smartphone  14680586     10.00         3   \n",
       "4        julie wolf  Smartwatch   3745263     10.00         3   \n",
       "\n",
       "              Total_Price Transaction_Date  Birth_Date  Location  \\\n",
       "0  16.562.693.299.999.900       01/12/2025  18/06/2001   Jakarta   \n",
       "1               1566449.0       31/12/2024  18/07/2002  Surabaya   \n",
       "2              31934841.7       23/11/2024  12/11/2001       NaN   \n",
       "3              39637582.2       02/10/2024  29/01/2003  Surabaya   \n",
       "4              10112210.1       04-19-2024         NaN   Bandung   \n",
       "\n",
       "     Payment_Method  \n",
       "0  Cash on Delivery  \n",
       "1  Cash on Delivery  \n",
       "2            PayPal  \n",
       "3            PayPal  \n",
       "4       Credit Card  "
      ]
     },
     "execution_count": 175,
     "metadata": {},
     "output_type": "execute_result"
    }
   ],
   "source": [
    "df.head()"
   ]
  },
  {
   "cell_type": "markdown",
   "metadata": {},
   "source": [
    "Menampilkan data type dari setiap variabel yang ada di dataset. Terlihat ada beberapa variabel yang data typenya tidak sesuai"
   ]
  },
  {
   "cell_type": "markdown",
   "metadata": {},
   "source": [
    "### Assesing Data"
   ]
  },
  {
   "cell_type": "code",
   "execution_count": 176,
   "metadata": {},
   "outputs": [
    {
     "name": "stdout",
     "output_type": "stream",
     "text": [
      "<class 'pandas.core.frame.DataFrame'>\n",
      "RangeIndex: 200 entries, 0 to 199\n",
      "Data columns (total 10 columns):\n",
      " #   Column            Non-Null Count  Dtype  \n",
      "---  ------            --------------  -----  \n",
      " 0   Customer_Name     200 non-null    object \n",
      " 1   Product           200 non-null    object \n",
      " 2   Price             200 non-null    int64  \n",
      " 3   Discount          180 non-null    float64\n",
      " 4   Quantity          200 non-null    int64  \n",
      " 5   Total_Price       196 non-null    object \n",
      " 6   Transaction_Date  200 non-null    object \n",
      " 7   Birth_Date        180 non-null    object \n",
      " 8   Location          180 non-null    object \n",
      " 9   Payment_Method    180 non-null    object \n",
      "dtypes: float64(1), int64(2), object(7)\n",
      "memory usage: 15.8+ KB\n"
     ]
    }
   ],
   "source": [
    "df.info()"
   ]
  },
  {
   "cell_type": "markdown",
   "metadata": {},
   "source": [
    "Menampilkan missing values yang ada di dalam dataset"
   ]
  },
  {
   "cell_type": "code",
   "execution_count": 177,
   "metadata": {},
   "outputs": [
    {
     "data": {
      "text/plain": [
       "Customer_Name        0\n",
       "Product              0\n",
       "Price                0\n",
       "Discount            20\n",
       "Quantity             0\n",
       "Total_Price          4\n",
       "Transaction_Date     0\n",
       "Birth_Date          20\n",
       "Location            20\n",
       "Payment_Method      20\n",
       "dtype: int64"
      ]
     },
     "execution_count": 177,
     "metadata": {},
     "output_type": "execute_result"
    }
   ],
   "source": [
    "df.isna().sum()"
   ]
  },
  {
   "cell_type": "markdown",
   "metadata": {},
   "source": [
    "Menampilkan data yang duplikat"
   ]
  },
  {
   "cell_type": "code",
   "execution_count": 178,
   "metadata": {},
   "outputs": [
    {
     "name": "stdout",
     "output_type": "stream",
     "text": [
      "Duplicated Data :  0\n"
     ]
    }
   ],
   "source": [
    "print('Duplicated Data : ', df.duplicated().sum())"
   ]
  },
  {
   "cell_type": "markdown",
   "metadata": {},
   "source": [
    "Melakukan perbaikan terkait type data dan penulisan pada costumer_name "
   ]
  },
  {
   "cell_type": "code",
   "execution_count": null,
   "metadata": {},
   "outputs": [],
   "source": [
    "df['Customer_Name'] = df['Customer_Name'].str.title() #mengubah costumer name menjadi title ex:Max Payne\n",
    "df['Price'] = df['Price'].astype(float) # mengubah data price ke float\n",
    "df['Total_Price'] = df['Total_Price'].str.replace(r'\\.', '', regex=True) #mengganti semua nilai yang memiliki titik dan diganti menjadi kosong\n",
    "df['Total_Price'] = pd.to_numeric(df['Total_Price'], errors='coerce') #mengubah data menjadi float"
   ]
  },
  {
   "cell_type": "code",
   "execution_count": null,
   "metadata": {},
   "outputs": [],
   "source": [
    "def convert(x):\n",
    "    x = pd.to_datetime(x, format='%d/%m/%Y', errors='coerce') #mengubah data ke type datetime dengan format dd/mm/YY menjadi bawaan dari pandas\n",
    "    x = x.fillna(pd.to_datetime(df['Transaction_Date'], format='%m-%d-%Y', errors='coerce')) #mengubah data ke type datetime dengan format mm-dd-YY menjadi bawaaan dari pandas\n",
    "    return x\n",
    "\n",
    "df['Transaction_Date'] = convert(df['Transaction_Date'])\n",
    "df['Birth_Date'] = convert(df['Birth_Date'])\n"
   ]
  },
  {
   "cell_type": "code",
   "execution_count": 197,
   "metadata": {},
   "outputs": [
    {
     "data": {
      "text/html": [
       "<div>\n",
       "<style scoped>\n",
       "    .dataframe tbody tr th:only-of-type {\n",
       "        vertical-align: middle;\n",
       "    }\n",
       "\n",
       "    .dataframe tbody tr th {\n",
       "        vertical-align: top;\n",
       "    }\n",
       "\n",
       "    .dataframe thead th {\n",
       "        text-align: right;\n",
       "    }\n",
       "</style>\n",
       "<table border=\"1\" class=\"dataframe\">\n",
       "  <thead>\n",
       "    <tr style=\"text-align: right;\">\n",
       "      <th></th>\n",
       "      <th>Customer_Name</th>\n",
       "      <th>Product</th>\n",
       "      <th>Price</th>\n",
       "      <th>Discount</th>\n",
       "      <th>Quantity</th>\n",
       "      <th>Total_Price</th>\n",
       "      <th>Transaction_Date</th>\n",
       "      <th>Birth_Date</th>\n",
       "      <th>Location</th>\n",
       "      <th>Payment_Method</th>\n",
       "    </tr>\n",
       "  </thead>\n",
       "  <tbody>\n",
       "    <tr>\n",
       "      <th>0</th>\n",
       "      <td>Charles Edwards</td>\n",
       "      <td>Tablet</td>\n",
       "      <td>8717207.00</td>\n",
       "      <td>5</td>\n",
       "      <td>2</td>\n",
       "      <td>16562693299999900.00</td>\n",
       "      <td>2025-12-01</td>\n",
       "      <td>2001-06-18</td>\n",
       "      <td>Jakarta</td>\n",
       "      <td>Cash on Delivery</td>\n",
       "    </tr>\n",
       "    <tr>\n",
       "      <th>1</th>\n",
       "      <td>Tiffany Williams</td>\n",
       "      <td>Smartwatch</td>\n",
       "      <td>1566449.00</td>\n",
       "      <td>0</td>\n",
       "      <td>1</td>\n",
       "      <td>15664490.00</td>\n",
       "      <td>2024-12-31</td>\n",
       "      <td>2002-07-18</td>\n",
       "      <td>Surabaya</td>\n",
       "      <td>Cash on Delivery</td>\n",
       "    </tr>\n",
       "    <tr>\n",
       "      <th>2</th>\n",
       "      <td>Edward Shepherd</td>\n",
       "      <td>Camera</td>\n",
       "      <td>18785201.00</td>\n",
       "      <td>15</td>\n",
       "      <td>2</td>\n",
       "      <td>319348417.00</td>\n",
       "      <td>2024-11-23</td>\n",
       "      <td>2001-11-12</td>\n",
       "      <td>Denpasar</td>\n",
       "      <td>PayPal</td>\n",
       "    </tr>\n",
       "    <tr>\n",
       "      <th>3</th>\n",
       "      <td>Wayne Sims</td>\n",
       "      <td>Smartphone</td>\n",
       "      <td>14680586.00</td>\n",
       "      <td>10</td>\n",
       "      <td>3</td>\n",
       "      <td>396375822.00</td>\n",
       "      <td>2024-10-02</td>\n",
       "      <td>2003-01-29</td>\n",
       "      <td>Surabaya</td>\n",
       "      <td>PayPal</td>\n",
       "    </tr>\n",
       "    <tr>\n",
       "      <th>4</th>\n",
       "      <td>Julie Wolf</td>\n",
       "      <td>Smartwatch</td>\n",
       "      <td>3745263.00</td>\n",
       "      <td>10</td>\n",
       "      <td>3</td>\n",
       "      <td>101122101.00</td>\n",
       "      <td>2024-04-19</td>\n",
       "      <td>2024-04-19</td>\n",
       "      <td>Bandung</td>\n",
       "      <td>Credit Card</td>\n",
       "    </tr>\n",
       "  </tbody>\n",
       "</table>\n",
       "</div>"
      ],
      "text/plain": [
       "      Customer_Name     Product       Price  Discount  Quantity  \\\n",
       "0   Charles Edwards      Tablet  8717207.00         5         2   \n",
       "1  Tiffany Williams  Smartwatch  1566449.00         0         1   \n",
       "2   Edward Shepherd      Camera 18785201.00        15         2   \n",
       "3        Wayne Sims  Smartphone 14680586.00        10         3   \n",
       "4        Julie Wolf  Smartwatch  3745263.00        10         3   \n",
       "\n",
       "           Total_Price Transaction_Date Birth_Date  Location    Payment_Method  \n",
       "0 16562693299999900.00       2025-12-01 2001-06-18   Jakarta  Cash on Delivery  \n",
       "1          15664490.00       2024-12-31 2002-07-18  Surabaya  Cash on Delivery  \n",
       "2         319348417.00       2024-11-23 2001-11-12  Denpasar            PayPal  \n",
       "3         396375822.00       2024-10-02 2003-01-29  Surabaya            PayPal  \n",
       "4         101122101.00       2024-04-19 2024-04-19   Bandung       Credit Card  "
      ]
     },
     "execution_count": 197,
     "metadata": {},
     "output_type": "execute_result"
    }
   ],
   "source": [
    "df.head()"
   ]
  },
  {
   "cell_type": "markdown",
   "metadata": {},
   "source": [
    "### Cleaning Data"
   ]
  },
  {
   "cell_type": "markdown",
   "metadata": {},
   "source": [
    "Menampilkan kolom mana yang terdapat perbedaan data yang terlalu jauh"
   ]
  },
  {
   "cell_type": "code",
   "execution_count": 182,
   "metadata": {},
   "outputs": [
    {
     "data": {
      "text/html": [
       "<div>\n",
       "<style scoped>\n",
       "    .dataframe tbody tr th:only-of-type {\n",
       "        vertical-align: middle;\n",
       "    }\n",
       "\n",
       "    .dataframe tbody tr th {\n",
       "        vertical-align: top;\n",
       "    }\n",
       "\n",
       "    .dataframe thead th {\n",
       "        text-align: right;\n",
       "    }\n",
       "</style>\n",
       "<table border=\"1\" class=\"dataframe\">\n",
       "  <thead>\n",
       "    <tr style=\"text-align: right;\">\n",
       "      <th></th>\n",
       "      <th>min</th>\n",
       "      <th>25%</th>\n",
       "      <th>50%</th>\n",
       "      <th>75%</th>\n",
       "      <th>max</th>\n",
       "      <th>std</th>\n",
       "    </tr>\n",
       "  </thead>\n",
       "  <tbody>\n",
       "    <tr>\n",
       "      <th>Price</th>\n",
       "      <td>513621.00</td>\n",
       "      <td>5130300.25</td>\n",
       "      <td>9185244.00</td>\n",
       "      <td>14604530.75</td>\n",
       "      <td>19763599.00</td>\n",
       "      <td>5453360.31</td>\n",
       "    </tr>\n",
       "    <tr>\n",
       "      <th>Discount</th>\n",
       "      <td>0.00</td>\n",
       "      <td>5.00</td>\n",
       "      <td>10.00</td>\n",
       "      <td>15.00</td>\n",
       "      <td>20.00</td>\n",
       "      <td>6.80</td>\n",
       "    </tr>\n",
       "    <tr>\n",
       "      <th>Quantity</th>\n",
       "      <td>1.00</td>\n",
       "      <td>2.00</td>\n",
       "      <td>3.00</td>\n",
       "      <td>4.00</td>\n",
       "      <td>5.00</td>\n",
       "      <td>1.40</td>\n",
       "    </tr>\n",
       "    <tr>\n",
       "      <th>Total_Price</th>\n",
       "      <td>13867767.00</td>\n",
       "      <td>149646339.00</td>\n",
       "      <td>352562776.00</td>\n",
       "      <td>886643058.75</td>\n",
       "      <td>66776333199999904.00</td>\n",
       "      <td>8930927430592602.00</td>\n",
       "    </tr>\n",
       "    <tr>\n",
       "      <th>Transaction_Date</th>\n",
       "      <td>2024-01-03 00:00:00</td>\n",
       "      <td>2024-06-02 00:00:00</td>\n",
       "      <td>2024-09-11 00:00:00</td>\n",
       "      <td>2024-11-29 00:00:00</td>\n",
       "      <td>2025-12-01 00:00:00</td>\n",
       "      <td>NaN</td>\n",
       "    </tr>\n",
       "    <tr>\n",
       "      <th>Birth_Date</th>\n",
       "      <td>1964-06-07 00:00:00</td>\n",
       "      <td>1975-09-27 18:00:00</td>\n",
       "      <td>1986-09-01 00:00:00</td>\n",
       "      <td>2000-09-26 12:00:00</td>\n",
       "      <td>2025-02-22 00:00:00</td>\n",
       "      <td>NaN</td>\n",
       "    </tr>\n",
       "  </tbody>\n",
       "</table>\n",
       "</div>"
      ],
      "text/plain": [
       "                                  min                  25%  \\\n",
       "Price                       513621.00           5130300.25   \n",
       "Discount                         0.00                 5.00   \n",
       "Quantity                         1.00                 2.00   \n",
       "Total_Price               13867767.00         149646339.00   \n",
       "Transaction_Date  2024-01-03 00:00:00  2024-06-02 00:00:00   \n",
       "Birth_Date        1964-06-07 00:00:00  1975-09-27 18:00:00   \n",
       "\n",
       "                                  50%                  75%  \\\n",
       "Price                      9185244.00          14604530.75   \n",
       "Discount                        10.00                15.00   \n",
       "Quantity                         3.00                 4.00   \n",
       "Total_Price              352562776.00         886643058.75   \n",
       "Transaction_Date  2024-09-11 00:00:00  2024-11-29 00:00:00   \n",
       "Birth_Date        1986-09-01 00:00:00  2000-09-26 12:00:00   \n",
       "\n",
       "                                  max                 std  \n",
       "Price                     19763599.00          5453360.31  \n",
       "Discount                        20.00                6.80  \n",
       "Quantity                         5.00                1.40  \n",
       "Total_Price      66776333199999904.00 8930927430592602.00  \n",
       "Transaction_Date  2025-12-01 00:00:00                 NaN  \n",
       "Birth_Date        2025-02-22 00:00:00                 NaN  "
      ]
     },
     "execution_count": 182,
     "metadata": {},
     "output_type": "execute_result"
    }
   ],
   "source": [
    "df.describe().T[['min','25%','50%','75%','max','std']]"
   ]
  },
  {
   "cell_type": "markdown",
   "metadata": {},
   "source": [
    "Cek outlier dari variabel yang memiliki missing values yaitu total price dan discount"
   ]
  },
  {
   "cell_type": "code",
   "execution_count": 183,
   "metadata": {},
   "outputs": [
    {
     "name": "stdout",
     "output_type": "stream",
     "text": [
      "Kolom Total_Price: 39 outliers\n",
      "Kolom Discount: 0 outliers\n"
     ]
    }
   ],
   "source": [
    "data = ['Total_Price', 'Discount']\n",
    "for i in data:\n",
    "    Q1 = df[i].quantile(0.25)\n",
    "    Q3 = df[i].quantile(0.75)\n",
    "    IQR = Q3-Q1\n",
    "    lower = Q1 - 1.5 * IQR\n",
    "    upper = Q3 + 1.5 * IQR\n",
    "\n",
    "    outliers = df[(df[i] < lower) | (df[i] > upper)]\n",
    "    print(f\"Kolom {i}: {len(outliers)} outliers\")"
   ]
  },
  {
   "cell_type": "markdown",
   "metadata": {},
   "source": [
    "dikarenakan discount tidak ada outlier maka cek skewness"
   ]
  },
  {
   "cell_type": "code",
   "execution_count": 194,
   "metadata": {},
   "outputs": [
    {
     "data": {
      "text/plain": [
       "np.float64(-0.07474757728243654)"
      ]
     },
     "execution_count": 194,
     "metadata": {},
     "output_type": "execute_result"
    }
   ],
   "source": [
    "df['Discount'].skew()"
   ]
  },
  {
   "cell_type": "markdown",
   "metadata": {},
   "source": [
    "Filling missing values \n",
    "- Pada total price terdapat outlier maka menggunakan mediam\n",
    "- Pada discount dikarenakan skewness mendekati normal maka menggunakan mean dan ubah ke integer\n",
    "- Pada transaction date mengisi menggunakan data sebelumnya karena transaksi biasanya mengikuti transaksi sebelumnya\n",
    "- Pada birth date mengisi menggunakan median karena usia costumer biasanya tersebar dalam pola normal dan median lebih tahan pada outlier\n",
    "- Pada location mengisi missing values menggunakan nilai yang sering keluar"
   ]
  },
  {
   "cell_type": "code",
   "execution_count": 190,
   "metadata": {},
   "outputs": [],
   "source": [
    "df['Total_Price'] = df['Total_Price'].fillna(df['Total_Price'].median())\n",
    "df['Discount'] = df['Discount'].fillna(df['Discount'].mean())\n",
    "df['Discount'] = df['Discount'].round().astype('int')\n",
    "df['Transaction_Date'] = df['Transaction_Date'].bfill()\n",
    "df['Birth_Date'] = df['Birth_Date'].fillna(df['Birth_Date'].median())\n",
    "df['Location'] = df['Location'].fillna(df['Location'].mode()[0])\n",
    "df['Payment_Method'] = df['Payment_Method'].fillna(df['Payment_Method'].mode()[0])"
   ]
  },
  {
   "cell_type": "markdown",
   "metadata": {},
   "source": [
    "Sudah tidak ada missing values pada data"
   ]
  },
  {
   "cell_type": "code",
   "execution_count": 191,
   "metadata": {},
   "outputs": [
    {
     "data": {
      "text/plain": [
       "Customer_Name       0\n",
       "Product             0\n",
       "Price               0\n",
       "Discount            0\n",
       "Quantity            0\n",
       "Total_Price         0\n",
       "Transaction_Date    0\n",
       "Birth_Date          0\n",
       "Location            0\n",
       "Payment_Method      0\n",
       "dtype: int64"
      ]
     },
     "execution_count": 191,
     "metadata": {},
     "output_type": "execute_result"
    }
   ],
   "source": [
    "df.isna().sum()"
   ]
  },
  {
   "cell_type": "code",
   "execution_count": 211,
   "metadata": {},
   "outputs": [
    {
     "data": {
      "text/html": [
       "<div>\n",
       "<style scoped>\n",
       "    .dataframe tbody tr th:only-of-type {\n",
       "        vertical-align: middle;\n",
       "    }\n",
       "\n",
       "    .dataframe tbody tr th {\n",
       "        vertical-align: top;\n",
       "    }\n",
       "\n",
       "    .dataframe thead th {\n",
       "        text-align: right;\n",
       "    }\n",
       "</style>\n",
       "<table border=\"1\" class=\"dataframe\">\n",
       "  <thead>\n",
       "    <tr style=\"text-align: right;\">\n",
       "      <th></th>\n",
       "      <th>Customer_Name</th>\n",
       "      <th>Product</th>\n",
       "      <th>Price</th>\n",
       "      <th>Discount</th>\n",
       "      <th>Quantity</th>\n",
       "      <th>Total_Price</th>\n",
       "      <th>Transaction_Date</th>\n",
       "      <th>Birth_Date</th>\n",
       "      <th>Location</th>\n",
       "      <th>Payment_Method</th>\n",
       "    </tr>\n",
       "  </thead>\n",
       "  <tbody>\n",
       "    <tr>\n",
       "      <th>0</th>\n",
       "      <td>Charles Edwards</td>\n",
       "      <td>Tablet</td>\n",
       "      <td>8717207.00</td>\n",
       "      <td>5</td>\n",
       "      <td>2</td>\n",
       "      <td>16562693299999900.00</td>\n",
       "      <td>2025-12-01</td>\n",
       "      <td>2001-06-18</td>\n",
       "      <td>Jakarta</td>\n",
       "      <td>Cash on Delivery</td>\n",
       "    </tr>\n",
       "    <tr>\n",
       "      <th>1</th>\n",
       "      <td>Tiffany Williams</td>\n",
       "      <td>Smartwatch</td>\n",
       "      <td>1566449.00</td>\n",
       "      <td>0</td>\n",
       "      <td>1</td>\n",
       "      <td>15664490.00</td>\n",
       "      <td>2024-12-31</td>\n",
       "      <td>2002-07-18</td>\n",
       "      <td>Surabaya</td>\n",
       "      <td>Cash on Delivery</td>\n",
       "    </tr>\n",
       "    <tr>\n",
       "      <th>2</th>\n",
       "      <td>Edward Shepherd</td>\n",
       "      <td>Camera</td>\n",
       "      <td>18785201.00</td>\n",
       "      <td>15</td>\n",
       "      <td>2</td>\n",
       "      <td>319348417.00</td>\n",
       "      <td>2024-11-23</td>\n",
       "      <td>2001-11-12</td>\n",
       "      <td>Denpasar</td>\n",
       "      <td>PayPal</td>\n",
       "    </tr>\n",
       "    <tr>\n",
       "      <th>3</th>\n",
       "      <td>Wayne Sims</td>\n",
       "      <td>Smartphone</td>\n",
       "      <td>14680586.00</td>\n",
       "      <td>10</td>\n",
       "      <td>3</td>\n",
       "      <td>396375822.00</td>\n",
       "      <td>2024-10-02</td>\n",
       "      <td>2003-01-29</td>\n",
       "      <td>Surabaya</td>\n",
       "      <td>PayPal</td>\n",
       "    </tr>\n",
       "    <tr>\n",
       "      <th>4</th>\n",
       "      <td>Julie Wolf</td>\n",
       "      <td>Smartwatch</td>\n",
       "      <td>3745263.00</td>\n",
       "      <td>10</td>\n",
       "      <td>3</td>\n",
       "      <td>101122101.00</td>\n",
       "      <td>2024-04-19</td>\n",
       "      <td>2024-04-19</td>\n",
       "      <td>Bandung</td>\n",
       "      <td>Credit Card</td>\n",
       "    </tr>\n",
       "  </tbody>\n",
       "</table>\n",
       "</div>"
      ],
      "text/plain": [
       "      Customer_Name     Product       Price  Discount  Quantity  \\\n",
       "0   Charles Edwards      Tablet  8717207.00         5         2   \n",
       "1  Tiffany Williams  Smartwatch  1566449.00         0         1   \n",
       "2   Edward Shepherd      Camera 18785201.00        15         2   \n",
       "3        Wayne Sims  Smartphone 14680586.00        10         3   \n",
       "4        Julie Wolf  Smartwatch  3745263.00        10         3   \n",
       "\n",
       "           Total_Price Transaction_Date Birth_Date  Location    Payment_Method  \n",
       "0 16562693299999900.00       2025-12-01 2001-06-18   Jakarta  Cash on Delivery  \n",
       "1          15664490.00       2024-12-31 2002-07-18  Surabaya  Cash on Delivery  \n",
       "2         319348417.00       2024-11-23 2001-11-12  Denpasar            PayPal  \n",
       "3         396375822.00       2024-10-02 2003-01-29  Surabaya            PayPal  \n",
       "4         101122101.00       2024-04-19 2024-04-19   Bandung       Credit Card  "
      ]
     },
     "execution_count": 211,
     "metadata": {},
     "output_type": "execute_result"
    }
   ],
   "source": [
    "df.head()"
   ]
  },
  {
   "cell_type": "code",
   "execution_count": 202,
   "metadata": {},
   "outputs": [
    {
     "name": "stdout",
     "output_type": "stream",
     "text": [
      "             Total_Price  Discount  Price  Quantity\n",
      "Total_Price         1.00      0.12   0.02     -0.04\n",
      "Discount            0.12      1.00  -0.06     -0.01\n",
      "Price               0.02     -0.06   1.00      0.18\n",
      "Quantity           -0.04     -0.01   0.18      1.00\n"
     ]
    }
   ],
   "source": [
    "correlation = df[['Total_Price', 'Discount', 'Price', 'Quantity']].corr()\n",
    "print(correlation)"
   ]
  },
  {
   "cell_type": "markdown",
   "metadata": {},
   "source": [
    "**Insight :**\n",
    "\n",
    "- Dari korelasi diatas menunjukkan hubungan antar variabel yang sangat lemah ini menandakan suatu variabel tidak berpengaruh ke variabel yang lain"
   ]
  },
  {
   "cell_type": "markdown",
   "metadata": {},
   "source": [
    "### Visualisasi"
   ]
  },
  {
   "cell_type": "code",
   "execution_count": null,
   "metadata": {},
   "outputs": [
    {
     "data": {
      "image/png": "[encoded data removed]",
      "text/plain": [
       "<Figure size 600x400 with 2 Axes>"
      ]
     },
     "metadata": {},
     "output_type": "display_data"
    }
   ],
   "source": [
    "plt.figure(figsize=(6,4))\n",
    "sns.heatmap(df[['Total_Price', 'Discount', 'Price']].corr(), annot=True, cmap='coolwarm', fmt=\".2f\")\n",
    "plt.title(\"Matriks Korelasi\")\n",
    "plt.show()"
   ]
  },
  {
   "cell_type": "code",
   "execution_count": 210,
   "metadata": {},
   "outputs": [
    {
     "data": {
      "image/png": "[encoded data removed]",
      "text/plain": [
       "<Figure size 640x480 with 1 Axes>"
      ]
     },
     "metadata": {},
     "output_type": "display_data"
    }
   ],
   "source": [
    "sns.scatterplot(x=df['Discount'], y=df['Total_Price'])\n",
    "plt.title(\"Hubungan antara Discount dan Total_Price\")\n",
    "plt.xlabel(\"Discount\")\n",
    "plt.ylabel(\"Total_Price\")\n",
    "plt.show()\n"
   ]
  }
 ],
 "metadata": {
  "kernelspec": {
   "display_name": "venv",
   "language": "python",
   "name": "python3"
  },
  "language_info": {
   "codemirror_mode": {
    "name": "ipython",
    "version": 3
   },
   "file_extension": ".py",
   "mimetype": "text/x-python",
   "name": "python",
   "nbconvert_exporter": "python",
   "pygments_lexer": "ipython3",
   "version": "3.13.0"
  }
 },
 "nbformat": 4,
 "nbformat_minor": 2
}
