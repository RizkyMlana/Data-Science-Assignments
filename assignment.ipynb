{
 "cells": [
  {
   "cell_type": "code",
   "execution_count": 1,
   "metadata": {},
   "outputs": [],
   "source": [
    "import pandas as pd\n",
    "import numpy as np\n",
    "import matplotlib.pyplot as plt"
   ]
  },
  {
   "cell_type": "code",
   "execution_count": 6,
   "metadata": {},
   "outputs": [
    {
     "name": "stdout",
     "output_type": "stream",
     "text": [
      "            Price  Discount  Quantity\n",
      "count      200.00    180.00    200.00\n",
      "mean   9936427.87     10.47      3.04\n",
      "std    5453360.31      6.80      1.40\n",
      "min     513621.00      0.00      1.00\n",
      "25%    5130300.25      5.00      2.00\n",
      "50%    9185244.00     10.00      3.00\n",
      "75%   14604530.75     15.00      4.00\n",
      "max   19763599.00     20.00      5.00\n"
     ]
    },
    {
     "data": {
      "text/html": [
       "<div>\n",
       "<style scoped>\n",
       "    .dataframe tbody tr th:only-of-type {\n",
       "        vertical-align: middle;\n",
       "    }\n",
       "\n",
       "    .dataframe tbody tr th {\n",
       "        vertical-align: top;\n",
       "    }\n",
       "\n",
       "    .dataframe thead th {\n",
       "        text-align: right;\n",
       "    }\n",
       "</style>\n",
       "<table border=\"1\" class=\"dataframe\">\n",
       "  <thead>\n",
       "    <tr style=\"text-align: right;\">\n",
       "      <th></th>\n",
       "      <th>Customer_Name</th>\n",
       "      <th>Product</th>\n",
       "      <th>Price</th>\n",
       "      <th>Discount</th>\n",
       "      <th>Quantity</th>\n",
       "      <th>Total_Price</th>\n",
       "      <th>Transaction_Date</th>\n",
       "      <th>Birth_Date</th>\n",
       "      <th>Location</th>\n",
       "      <th>Payment_Method</th>\n",
       "    </tr>\n",
       "  </thead>\n",
       "  <tbody>\n",
       "    <tr>\n",
       "      <th>0</th>\n",
       "      <td>CHARLES EDWARDS</td>\n",
       "      <td>Tablet</td>\n",
       "      <td>8717207</td>\n",
       "      <td>5.00</td>\n",
       "      <td>2</td>\n",
       "      <td>16.562.693.299.999.900</td>\n",
       "      <td>01/12/2025</td>\n",
       "      <td>18/06/2001</td>\n",
       "      <td>Jakarta</td>\n",
       "      <td>Cash on Delivery</td>\n",
       "    </tr>\n",
       "    <tr>\n",
       "      <th>1</th>\n",
       "      <td>tiffany williams</td>\n",
       "      <td>Smartwatch</td>\n",
       "      <td>1566449</td>\n",
       "      <td>0.00</td>\n",
       "      <td>1</td>\n",
       "      <td>1566449.0</td>\n",
       "      <td>31/12/2024</td>\n",
       "      <td>18/07/2002</td>\n",
       "      <td>Surabaya</td>\n",
       "      <td>Cash on Delivery</td>\n",
       "    </tr>\n",
       "    <tr>\n",
       "      <th>2</th>\n",
       "      <td>Edward Shepherd</td>\n",
       "      <td>Camera</td>\n",
       "      <td>18785201</td>\n",
       "      <td>15.00</td>\n",
       "      <td>2</td>\n",
       "      <td>31934841.7</td>\n",
       "      <td>23/11/2024</td>\n",
       "      <td>12/11/2001</td>\n",
       "      <td>NaN</td>\n",
       "      <td>PayPal</td>\n",
       "    </tr>\n",
       "    <tr>\n",
       "      <th>3</th>\n",
       "      <td>WAYNE SIMS</td>\n",
       "      <td>Smartphone</td>\n",
       "      <td>14680586</td>\n",
       "      <td>10.00</td>\n",
       "      <td>3</td>\n",
       "      <td>39637582.2</td>\n",
       "      <td>02/10/2024</td>\n",
       "      <td>29/01/2003</td>\n",
       "      <td>Surabaya</td>\n",
       "      <td>PayPal</td>\n",
       "    </tr>\n",
       "    <tr>\n",
       "      <th>4</th>\n",
       "      <td>julie wolf</td>\n",
       "      <td>Smartwatch</td>\n",
       "      <td>3745263</td>\n",
       "      <td>10.00</td>\n",
       "      <td>3</td>\n",
       "      <td>10112210.1</td>\n",
       "      <td>04-19-2024</td>\n",
       "      <td>NaN</td>\n",
       "      <td>Bandung</td>\n",
       "      <td>Credit Card</td>\n",
       "    </tr>\n",
       "  </tbody>\n",
       "</table>\n",
       "</div>"
      ],
      "text/plain": [
       "      Customer_Name     Product     Price  Discount  Quantity  \\\n",
       "0   CHARLES EDWARDS      Tablet   8717207      5.00         2   \n",
       "1  tiffany williams  Smartwatch   1566449      0.00         1   \n",
       "2   Edward Shepherd      Camera  18785201     15.00         2   \n",
       "3        WAYNE SIMS  Smartphone  14680586     10.00         3   \n",
       "4        julie wolf  Smartwatch   3745263     10.00         3   \n",
       "\n",
       "              Total_Price Transaction_Date  Birth_Date  Location  \\\n",
       "0  16.562.693.299.999.900       01/12/2025  18/06/2001   Jakarta   \n",
       "1               1566449.0       31/12/2024  18/07/2002  Surabaya   \n",
       "2              31934841.7       23/11/2024  12/11/2001       NaN   \n",
       "3              39637582.2       02/10/2024  29/01/2003  Surabaya   \n",
       "4              10112210.1       04-19-2024         NaN   Bandung   \n",
       "\n",
       "     Payment_Method  \n",
       "0  Cash on Delivery  \n",
       "1  Cash on Delivery  \n",
       "2            PayPal  \n",
       "3            PayPal  \n",
       "4       Credit Card  "
      ]
     },
     "execution_count": 6,
     "metadata": {},
     "output_type": "execute_result"
    }
   ],
   "source": [
    "df = pd.read_csv('TugasDataSainsW3.csv',delimiter=';')\n",
    "pd.set_option('display.float_format', '{:.2f}'.format)\n",
    "print(df.describe())\n",
    "\n",
    "df.head()"
   ]
  },
  {
   "cell_type": "code",
   "execution_count": 17,
   "metadata": {},
   "outputs": [
    {
     "name": "stdout",
     "output_type": "stream",
     "text": [
      "<class 'pandas.core.frame.DataFrame'>\n",
      "RangeIndex: 200 entries, 0 to 199\n",
      "Data columns (total 10 columns):\n",
      " #   Column            Non-Null Count  Dtype  \n",
      "---  ------            --------------  -----  \n",
      " 0   Customer_Name     200 non-null    object \n",
      " 1   Product           200 non-null    object \n",
      " 2   Price             200 non-null    float64\n",
      " 3   Discount          180 non-null    float64\n",
      " 4   Quantity          200 non-null    int64  \n",
      " 5   Total_Price       196 non-null    object \n",
      " 6   Transaction_Date  200 non-null    object \n",
      " 7   Birth_Date        180 non-null    object \n",
      " 8   Location          180 non-null    object \n",
      " 9   Payment_Method    180 non-null    object \n",
      "dtypes: float64(2), int64(1), object(7)\n",
      "memory usage: 15.8+ KB\n"
     ]
    }
   ],
   "source": [
    "df.info()"
   ]
  },
  {
   "cell_type": "code",
   "execution_count": null,
   "metadata": {},
   "outputs": [],
   "source": [
    "# df['Price'] = df['Price'].astype(float)\n",
    "# df['Discount'] = df['Discount'].astype(int)\n",
    "# df['Total_Price'] = df['Total_Price'].astype(float)\n",
    "# df['Transaction_Date'] = pd.to_datetime(df['Transaction_Date'])\n",
    "# df['Birth_Date'] = pd.to_datetime(df['Birth_Date'])\n",
    "# df['Product'] = df['Product'].astype('category')\n",
    "# df['Location'] = df['Location'].astype('category')\n",
    "# df['Payment_Method'] = df['Payment_Method'].astype('category')"
   ]
  },
  {
   "cell_type": "code",
   "execution_count": 12,
   "metadata": {},
   "outputs": [
    {
     "name": "stdout",
     "output_type": "stream",
     "text": [
      "Data Duplicated :  0\n"
     ]
    }
   ],
   "source": [
    "print('Data Duplicated : ', df.duplicated().sum())"
   ]
  },
  {
   "cell_type": "code",
   "execution_count": null,
   "metadata": {},
   "outputs": [],
   "source": []
  }
 ],
 "metadata": {
  "kernelspec": {
   "display_name": "venv",
   "language": "python",
   "name": "python3"
  },
  "language_info": {
   "codemirror_mode": {
    "name": "ipython",
    "version": 3
   },
   "file_extension": ".py",
   "mimetype": "text/x-python",
   "name": "python",
   "nbconvert_exporter": "python",
   "pygments_lexer": "ipython3",
   "version": "3.13.0"
  }
 },
 "nbformat": 4,
 "nbformat_minor": 2
}
